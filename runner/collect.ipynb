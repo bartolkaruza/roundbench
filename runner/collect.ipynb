{
 "cells": [
  {
   "cell_type": "code",
   "execution_count": 25,
   "metadata": {},
   "outputs": [
    {
     "data": {
      "text/plain": [
       "{'start': [256718, 594005666],\n",
       " 'place_response': [256720, 617291666],\n",
       " 'place_json_parsed': [256720, 617383708],\n",
       " 'ws_place': [256720, 972581875],\n",
       " 'ws_cancel_parsed': [256720, 629427375],\n",
       " 'cancel_response': [256720, 967288000],\n",
       " 'cancel_json_parsed': [256720, 967345291],\n",
       " 'ws_place_parsed': [256720, 972613250],\n",
       " 'end': [256720, 972659875]}"
      ]
     },
     "execution_count": 25,
     "metadata": {},
     "output_type": "execute_result"
    }
   ],
   "source": [
    "import subprocess\n",
    "import os\n",
    "from dotenv import load_dotenv\n",
    "import json\n",
    "\n",
    "load_dotenv('../.env')\n",
    "\n",
    "output = subprocess.run(['node', '../nodejs/roundbench.js'], stdout=subprocess.PIPE, text=True)\n",
    "json.loads(output.stdout)"
   ]
  }
 ],
 "metadata": {
  "kernelspec": {
   "display_name": "runner-xgmlRsJa-py3.11",
   "language": "python",
   "name": "python3"
  },
  "language_info": {
   "codemirror_mode": {
    "name": "ipython",
    "version": 3
   },
   "file_extension": ".py",
   "mimetype": "text/x-python",
   "name": "python",
   "nbconvert_exporter": "python",
   "pygments_lexer": "ipython3",
   "version": "3.11.3"
  },
  "orig_nbformat": 4
 },
 "nbformat": 4,
 "nbformat_minor": 2
}
